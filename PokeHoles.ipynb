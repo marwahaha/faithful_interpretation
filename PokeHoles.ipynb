{
 "cells": [
  {
   "cell_type": "code",
   "execution_count": 29,
   "metadata": {},
   "outputs": [],
   "source": [
    "import matplotlib.pyplot as plt\n",
    "import numpy as np\n",
    "from scipy import signal\n",
    "import itertools\n",
    "import math\n",
    "import os\n",
    "import matplotlib as mpl\n",
    "plt.ion()"
   ]
  },
  {
   "cell_type": "code",
   "execution_count": 2,
   "metadata": {},
   "outputs": [],
   "source": [
    "# random mask\n",
    "w, h = 10, 10\n",
    "m = np.random.randint(0,2,size=(w,h))"
   ]
  },
  {
   "cell_type": "code",
   "execution_count": 3,
   "metadata": {},
   "outputs": [
    {
     "data": {
      "text/plain": [
       "<matplotlib.image.AxesImage at 0x7fb9201688d0>"
      ]
     },
     "execution_count": 3,
     "metadata": {},
     "output_type": "execute_result"
    },
    {
     "data": {
      "image/png": "[encoded data removed]",
      "text/plain": [
       "<matplotlib.figure.Figure at 0x7fb998713198>"
      ]
     },
     "metadata": {},
     "output_type": "display_data"
    }
   ],
   "source": [
    "plt.imshow(m) # assume m is the pattern we want"
   ]
  },
  {
   "cell_type": "code",
   "execution_count": 4,
   "metadata": {},
   "outputs": [
    {
     "data": {
      "image/png": "[encoded data removed]",
      "text/plain": [
       "<matplotlib.figure.Figure at 0x7fb920168f60>"
      ]
     },
     "metadata": {},
     "output_type": "display_data"
    }
   ],
   "source": [
    "c = signal.convolve2d(m, m, mode=\"same\") # assume our filter is exacting m, which should be perfect\n",
    "plt.imshow(c)\n",
    "\n",
    "T = 0.005 # percentage activate"
   ]
  },
  {
   "cell_type": "code",
   "execution_count": 5,
   "metadata": {
    "scrolled": false
   },
   "outputs": [
    {
     "name": "stdout",
     "output_type": "stream",
     "text": [
      "percent overlapping with the actual filter: 100 \n"
     ]
    },
    {
     "data": {
      "image/png": "[encoded data removed]",
      "text/plain": [
       "<matplotlib.figure.Figure at 0x7fb9200c84e0>"
      ]
     },
     "metadata": {},
     "output_type": "display_data"
    },
    {
     "name": "stdout",
     "output_type": "stream",
     "text": [
      "percent overlapping with the actual filter: 94 \n"
     ]
    },
    {
     "data": {
      "image/png": "[encoded data removed]",
      "text/plain": [
       "<matplotlib.figure.Figure at 0x7fb92007d240>"
      ]
     },
     "metadata": {},
     "output_type": "display_data"
    },
    {
     "name": "stdout",
     "output_type": "stream",
     "text": [
      "percent overlapping with the actual filter: 68 \n"
     ]
    },
    {
     "data": {
      "image/png": "[encoded data removed]",
      "text/plain": [
       "<matplotlib.figure.Figure at 0x7fb9200470b8>"
      ]
     },
     "metadata": {},
     "output_type": "display_data"
    },
    {
     "name": "stdout",
     "output_type": "stream",
     "text": [
      "percent overlapping with the actual filter: 61 \n"
     ]
    },
    {
     "data": {
      "image/png": "[encoded data removed]",
      "text/plain": [
       "<matplotlib.figure.Figure at 0x7fb9200155c0>"
      ]
     },
     "metadata": {},
     "output_type": "display_data"
    },
    {
     "name": "stdout",
     "output_type": "stream",
     "text": [
      "percent overlapping with the actual filter: 29 \n"
     ]
    },
    {
     "data": {
      "image/png": "[encoded data removed]",
      "text/plain": [
       "<matplotlib.figure.Figure at 0x7fb91ffca4e0>"
      ]
     },
     "metadata": {},
     "output_type": "display_data"
    }
   ],
   "source": [
    "# show the convolved array at different threshold\n",
    "for i in [5, 10, 15, 20, 25]:\n",
    "    plt.title(\"Threshold: %d\" % i)\n",
    "    mask = (c >= i)\n",
    "    print(\"percent overlapping with the actual filter: %d \" % ((mask * m).sum() / m.sum() * 100) )\n",
    "    plt.imshow(mask)\n",
    "    plt.show()"
   ]
  },
  {
   "cell_type": "markdown",
   "metadata": {},
   "source": [
    "This shows that calculating overlapping regions is really flawed. That is using this criteria for measuring percent overlapping may be wrong."
   ]
  },
  {
   "cell_type": "code",
   "execution_count": null,
   "metadata": {},
   "outputs": [],
   "source": []
  },
  {
   "cell_type": "code",
   "execution_count": null,
   "metadata": {},
   "outputs": [],
   "source": []
  },
  {
   "cell_type": "code",
   "execution_count": null,
   "metadata": {},
   "outputs": [],
   "source": []
  },
  {
   "cell_type": "markdown",
   "metadata": {},
   "source": [
    "# shapes and colors for ID"
   ]
  },
  {
   "cell_type": "code",
   "execution_count": 19,
   "metadata": {},
   "outputs": [
    {
     "name": "stdout",
     "output_type": "stream",
     "text": [
      "total 5148 concepts\n"
     ]
    }
   ],
   "source": [
    "shapes = ['circle', 'rectangle1', 'rectangle2', 'square', 'triangle1', 'triangle2', 'triangle3', 'pentagon']\n",
    "colors = ['green', 'yellow', 'black', 'red', 'brown', 'orange', 'blue', 'aqua', 'grey', 'violet', 'lawngreen', \n",
    "          'olive', 'plum']\n",
    "rotations = [-10, 0, 10]\n",
    "trans_x = [-0.3, 0, 0.3]\n",
    "trans_y = trans_x\n",
    "scales = [0.3, 0.6]\n",
    "\n",
    "base1 = len(colors) * len(scales) * len(trans_x) * len(trans_y) # circle\n",
    "base2 = (len(shapes)-1) * len(colors) * len(scales) * len(trans_x) * len(trans_y) * len(rotations)\n",
    "print('total %d concepts' % (base1 + base2))"
   ]
  },
  {
   "cell_type": "code",
   "execution_count": 20,
   "metadata": {},
   "outputs": [
    {
     "name": "stdout",
     "output_type": "stream",
     "text": [
      "5148\n"
     ]
    }
   ],
   "source": [
    "count = 0\n",
    "for shape, tx, ty, c, s in itertools.product(shapes, trans_x, trans_y, colors, scales):\n",
    "    for r in rotations:\n",
    "        count += 1\n",
    "        if shape == 'circle':\n",
    "            break\n",
    "        \n",
    "total_count = count"
   ]
  },
  {
   "cell_type": "code",
   "execution_count": 21,
   "metadata": {
    "scrolled": false
   },
   "outputs": [
    {
     "name": "stdout",
     "output_type": "stream",
     "text": [
      "progress: 100/5148\n",
      "progress: 200/5148\n",
      "progress: 300/5148\n",
      "progress: 400/5148\n",
      "progress: 500/5148\n",
      "progress: 600/5148\n",
      "progress: 700/5148\n",
      "progress: 800/5148\n",
      "progress: 900/5148\n",
      "progress: 1000/5148\n",
      "progress: 1100/5148\n",
      "progress: 1200/5148\n",
      "progress: 1300/5148\n",
      "progress: 1400/5148\n",
      "progress: 1500/5148\n",
      "progress: 1600/5148\n",
      "progress: 1700/5148\n",
      "progress: 1800/5148\n",
      "progress: 1900/5148\n",
      "progress: 2000/5148\n",
      "progress: 2100/5148\n",
      "progress: 2200/5148\n",
      "progress: 2300/5148\n",
      "progress: 2400/5148\n",
      "progress: 2500/5148\n",
      "progress: 2600/5148\n",
      "progress: 2700/5148\n",
      "progress: 2800/5148\n",
      "progress: 2900/5148\n",
      "progress: 3000/5148\n",
      "progress: 3100/5148\n",
      "progress: 3200/5148\n",
      "progress: 3300/5148\n",
      "progress: 3400/5148\n",
      "progress: 3500/5148\n",
      "progress: 3600/5148\n",
      "progress: 3700/5148\n",
      "progress: 3800/5148\n",
      "progress: 3900/5148\n",
      "progress: 4000/5148\n",
      "progress: 4100/5148\n",
      "progress: 4200/5148\n",
      "progress: 4300/5148\n",
      "progress: 4400/5148\n",
      "progress: 4500/5148\n",
      "progress: 4600/5148\n",
      "progress: 4700/5148\n",
      "progress: 4800/5148\n",
      "progress: 4900/5148\n",
      "progress: 5000/5148\n",
      "progress: 5100/5148\n"
     ]
    },
    {
     "data": {
      "text/plain": [
       "<matplotlib.figure.Figure at 0x7fb91ffec390>"
      ]
     },
     "metadata": {},
     "output_type": "display_data"
    }
   ],
   "source": [
    "count =  0\n",
    "for shape, tx, ty, c, s in itertools.product(shapes, trans_x, trans_y, colors, scales):\n",
    "    for r in rotations:\n",
    "        count += 1\n",
    "        text = \"shape: %s, r: %d, c: %s, tr: (%.1f, %.1f), s: %.1f\" % (shape, r, c, tx, ty, s) \n",
    "        if count % 100 == 0:\n",
    "            print(\"progress: %d/%d\" % (count, total_count))\n",
    "        if shape == 'circle':\n",
    "            shapelet = plt.Circle((tx, ty), radius=s, fc=c)\n",
    "        elif shape == 'rectangle1':\n",
    "            shapelet = plt.Rectangle((tx-0.5*s, ty-s), s, 2*s, fc=c)\n",
    "        elif shape == 'rectangle2':\n",
    "            shapelet = plt.Rectangle((tx-s, ty-0.5*s), 2*s, s, fc=c)\n",
    "        elif shape == 'square':\n",
    "            shapelet = plt.Rectangle((tx-s, ty-s), 2*s, 2*s, fc=c)\n",
    "        elif shape == 'triangle1':\n",
    "            points = [[tx-s, ty-s], [tx+s, ty-s], [tx+s, ty+s]]\n",
    "            shapelet = plt.Polygon(points, fc=c)\n",
    "        elif shape == 'triangle2':\n",
    "            points = [[tx-s, ty-s], [tx+s, ty-s], [tx-s, ty+s]]\n",
    "            shapelet = plt.Polygon(points, fc=c)\n",
    "        elif shape == 'triangle3':\n",
    "            points = [[tx-s, ty-s], [tx+s, ty-s], [tx, ty+s]]\n",
    "            shapelet = plt.Polygon(points, fc=c)\n",
    "        elif shape == 'pentagon':\n",
    "            c1 = 1 / 4 * (math.sqrt(5) - 1)\n",
    "            c2 = 1 / 4 * (math.sqrt(5) + 1)\n",
    "            s1 = 1 / 4 * (math.sqrt(10 + 2 * math.sqrt(5)))\n",
    "            s2 = 1 / 4 * (math.sqrt(10 - 2 * math.sqrt(5)))\n",
    "            points = [[0,1], [s1, c1], [s2, -c2], [-s2, -c2], [-s1, c1]]\n",
    "            # scale down and translate these points\n",
    "            points = list(map(lambda p: [p[0]*s + tx, p[1]*s + ty], points))\n",
    "            shapelet = plt.Polygon(points, fc=c)\n",
    "\n",
    "\n",
    "        rotate = mpl.transforms.Affine2D().rotate_deg(r) + plt.gca().transData\n",
    "        shapelet.set_transform(rotate)\n",
    "\n",
    "        plt.gca().add_patch(shapelet)\n",
    "        plt.axis('scaled')\n",
    "        plt.xlim(-1, 1)\n",
    "        plt.ylim(-1, 1)\n",
    "        plt.gca().set_axis_off()\n",
    "        basename = 'webapp/static/images/color_shape_combined/'\n",
    "        if not os.path.exists(basename):\n",
    "            os.makedirs(basename)\n",
    "        plt.savefig(basename + \"_\".join(text.split(\" \")) + \".png\")\n",
    "        plt.clf()\n",
    "\n",
    "        if shape == 'circle':\n",
    "            # no need to rotate a circle twice\n",
    "            break"
   ]
  },
  {
   "cell_type": "code",
   "execution_count": 32,
   "metadata": {},
   "outputs": [
    {
     "name": "stdout",
     "output_type": "stream",
     "text": [
      "progress: 100\n",
      "progress: 200\n",
      "progress: 300\n"
     ]
    },
    {
     "data": {
      "text/plain": [
       "<matplotlib.figure.Figure at 0x7fb91f7bb438>"
      ]
     },
     "metadata": {},
     "output_type": "display_data"
    }
   ],
   "source": [
    "# if don't do combination of colors: still have 409 concepts\n",
    "# get the colors\n",
    "for c in colors:\n",
    "    shapelet = plt.Rectangle((-1, -1), 2, 2, fc=c)\n",
    "    plt.gca().add_patch(shapelet)\n",
    "    plt.axis('scaled')\n",
    "    plt.xlim(-1, 1)\n",
    "    plt.ylim(-1, 1)\n",
    "    plt.gca().set_axis_off()\n",
    "    basename = 'webapp/static/images/color_shape_separate/'\n",
    "    if not os.path.exists(basename):\n",
    "        os.makedirs(basename)\n",
    "    plt.savefig(basename + \"_\".join(c.split(\" \")) + \".png\")\n",
    "    plt.clf()\n",
    "    \n",
    "count =  0\n",
    "for shape, tx, ty, s in itertools.product(shapes, trans_x, trans_y, scales):\n",
    "    c = 'black'\n",
    "    for r in rotations:\n",
    "        count += 1\n",
    "        text = \"shape: %s, r: %d, c: %s, tr: (%.1f, %.1f), s: %.1f\" % (shape, r, c, tx, ty, s) \n",
    "        if count % 100 == 0:\n",
    "            print(\"progress: %d\" % (count))\n",
    "        if shape == 'circle':\n",
    "            shapelet = plt.Circle((tx, ty), radius=s, fc=c)\n",
    "        elif shape == 'rectangle1':\n",
    "            shapelet = plt.Rectangle((tx-0.5*s, ty-s), s, 2*s, fc=c)\n",
    "        elif shape == 'rectangle2':\n",
    "            shapelet = plt.Rectangle((tx-s, ty-0.5*s), 2*s, s, fc=c)\n",
    "        elif shape == 'square':\n",
    "            shapelet = plt.Rectangle((tx-s, ty-s), 2*s, 2*s, fc=c)\n",
    "        elif shape == 'triangle1':\n",
    "            points = [[tx-s, ty-s], [tx+s, ty-s], [tx+s, ty+s]]\n",
    "            shapelet = plt.Polygon(points, fc=c)\n",
    "        elif shape == 'triangle2':\n",
    "            points = [[tx-s, ty-s], [tx+s, ty-s], [tx-s, ty+s]]\n",
    "            shapelet = plt.Polygon(points, fc=c)\n",
    "        elif shape == 'triangle3':\n",
    "            points = [[tx-s, ty-s], [tx+s, ty-s], [tx, ty+s]]\n",
    "            shapelet = plt.Polygon(points, fc=c)\n",
    "        elif shape == 'pentagon':\n",
    "            c1 = 1 / 4 * (math.sqrt(5) - 1)\n",
    "            c2 = 1 / 4 * (math.sqrt(5) + 1)\n",
    "            s1 = 1 / 4 * (math.sqrt(10 + 2 * math.sqrt(5)))\n",
    "            s2 = 1 / 4 * (math.sqrt(10 - 2 * math.sqrt(5)))\n",
    "            points = [[0,1], [s1, c1], [s2, -c2], [-s2, -c2], [-s1, c1]]\n",
    "            # scale down and translate these points\n",
    "            points = list(map(lambda p: [p[0]*s + tx, p[1]*s + ty], points))\n",
    "            shapelet = plt.Polygon(points, fc=c)\n",
    "\n",
    "\n",
    "        rotate = mpl.transforms.Affine2D().rotate_deg(r) + plt.gca().transData\n",
    "        shapelet.set_transform(rotate)\n",
    "\n",
    "        plt.gca().add_patch(shapelet)\n",
    "        plt.axis('scaled')\n",
    "        plt.xlim(-1, 1)\n",
    "        plt.ylim(-1, 1)\n",
    "        plt.gca().set_axis_off()\n",
    "        basename = 'webapp/static/images/color_shape_separate/'\n",
    "        if not os.path.exists(basename):\n",
    "            os.makedirs(basename)\n",
    "        plt.savefig(basename + \"_\".join(text.split(\" \")) + \".png\")\n",
    "        plt.clf()\n",
    "\n",
    "        if shape == 'circle':\n",
    "            # no need to rotate a circle twice\n",
    "            break\n",
    "\n"
   ]
  },
  {
   "cell_type": "code",
   "execution_count": null,
   "metadata": {},
   "outputs": [],
   "source": []
  }
 ],
 "metadata": {
  "kernelspec": {
   "display_name": "Python 3",
   "language": "python",
   "name": "python3"
  },
  "language_info": {
   "codemirror_mode": {
    "name": "ipython",
    "version": 3
   },
   "file_extension": ".py",
   "mimetype": "text/x-python",
   "name": "python",
   "nbconvert_exporter": "python",
   "pygments_lexer": "ipython3",
   "version": "3.5.2"
  }
 },
 "nbformat": 4,
 "nbformat_minor": 2
}
